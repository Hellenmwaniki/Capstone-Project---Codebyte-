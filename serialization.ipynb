{
 "cells": [
  {
   "cell_type": "code",
   "execution_count": 1,
   "id": "044d43d1",
   "metadata": {},
   "outputs": [
    {
     "data": {
      "text/html": [
       "<div>\n",
       "<style scoped>\n",
       "    .dataframe tbody tr th:only-of-type {\n",
       "        vertical-align: middle;\n",
       "    }\n",
       "\n",
       "    .dataframe tbody tr th {\n",
       "        vertical-align: top;\n",
       "    }\n",
       "\n",
       "    .dataframe thead th {\n",
       "        text-align: right;\n",
       "    }\n",
       "</style>\n",
       "<table border=\"1\" class=\"dataframe\">\n",
       "  <thead>\n",
       "    <tr style=\"text-align: right;\">\n",
       "      <th></th>\n",
       "      <th>video_id</th>\n",
       "      <th>comment</th>\n",
       "    </tr>\n",
       "  </thead>\n",
       "  <tbody>\n",
       "    <tr>\n",
       "      <th>0</th>\n",
       "      <td>qlZM3McwO1Q</td>\n",
       "      <td>What an incredible victory. I agree the Kenyan...</td>\n",
       "    </tr>\n",
       "    <tr>\n",
       "      <th>1</th>\n",
       "      <td>1</td>\n",
       "      <td>❤</td>\n",
       "    </tr>\n",
       "    <tr>\n",
       "      <th>2</th>\n",
       "      <td>2</td>\n",
       "      <td>“Claudia is an amazonian goddess with a beauti...</td>\n",
       "    </tr>\n",
       "    <tr>\n",
       "      <th>3</th>\n",
       "      <td>3</td>\n",
       "      <td>Proud of my motherland Kenya ❤❤❤and Africa.at ...</td>\n",
       "    </tr>\n",
       "    <tr>\n",
       "      <th>4</th>\n",
       "      <td>4</td>\n",
       "      <td>Damn</td>\n",
       "    </tr>\n",
       "  </tbody>\n",
       "</table>\n",
       "</div>"
      ],
      "text/plain": [
       "      video_id                                            comment\n",
       "0  qlZM3McwO1Q  What an incredible victory. I agree the Kenyan...\n",
       "1            1                                                  ❤\n",
       "2            2  “Claudia is an amazonian goddess with a beauti...\n",
       "3            3  Proud of my motherland Kenya ❤❤❤and Africa.at ...\n",
       "4            4                                               Damn"
      ]
     },
     "execution_count": 1,
     "metadata": {},
     "output_type": "execute_result"
    }
   ],
   "source": [
    "import pandas as pd\n",
    "\n",
    "# Step 1: Load the CSV file\n",
    "df = pd.read_csv('youtube_comments.csv')\n",
    "\n",
    "# Step 2: Replace values in a specific column (e.g., 'ColumnName') from second row onwards\n",
    "# Replace 'ColumnName' with the actual name of your column\n",
    "column_to_replace = 'video_id'\n",
    "df.loc[1:, column_to_replace] = range(1, len(df))\n",
    "\n",
    "# Step 3: Save the modified DataFrame to a new CSV file\n",
    "df.to_csv('youtube_modified.csv', index=False)\n",
    "\n",
    "# Optional: Preview the result\n",
    "df.head()\n"
   ]
  },
  {
   "cell_type": "markdown",
   "id": "fbec309a",
   "metadata": {},
   "source": [
    "# Brian's Data"
   ]
  },
  {
   "cell_type": "code",
   "execution_count": 2,
   "id": "c8e59b7c",
   "metadata": {},
   "outputs": [
    {
     "data": {
      "text/html": [
       "<div>\n",
       "<style scoped>\n",
       "    .dataframe tbody tr th:only-of-type {\n",
       "        vertical-align: middle;\n",
       "    }\n",
       "\n",
       "    .dataframe tbody tr th {\n",
       "        vertical-align: top;\n",
       "    }\n",
       "\n",
       "    .dataframe thead th {\n",
       "        text-align: right;\n",
       "    }\n",
       "</style>\n",
       "<table border=\"1\" class=\"dataframe\">\n",
       "  <thead>\n",
       "    <tr style=\"text-align: right;\">\n",
       "      <th></th>\n",
       "      <th>Index</th>\n",
       "      <th>Top Comment</th>\n",
       "      <th>Reply</th>\n",
       "    </tr>\n",
       "  </thead>\n",
       "  <tbody>\n",
       "    <tr>\n",
       "      <th>0</th>\n",
       "      <td>1</td>\n",
       "      <td>Apple missed the boat on AI OR... Apple is doi...</td>\n",
       "      <td>NaN</td>\n",
       "    </tr>\n",
       "    <tr>\n",
       "      <th>1</th>\n",
       "      <td>2</td>\n",
       "      <td>Who added the background music to the video it...</td>\n",
       "      <td>NaN</td>\n",
       "    </tr>\n",
       "    <tr>\n",
       "      <th>2</th>\n",
       "      <td>3</td>\n",
       "      <td>16:26  FEMI KUTI !!! RAAHHH !!!</td>\n",
       "      <td>NaN</td>\n",
       "    </tr>\n",
       "    <tr>\n",
       "      <th>3</th>\n",
       "      <td>4</td>\n",
       "      <td>The greatest AI scam in history, is AI.</td>\n",
       "      <td>NaN</td>\n",
       "    </tr>\n",
       "    <tr>\n",
       "      <th>4</th>\n",
       "      <td>5</td>\n",
       "      <td>if I only knew Siri is a mess, I would bought ...</td>\n",
       "      <td>NaN</td>\n",
       "    </tr>\n",
       "  </tbody>\n",
       "</table>\n",
       "</div>"
      ],
      "text/plain": [
       "   Index                                        Top Comment Reply\n",
       "0      1  Apple missed the boat on AI OR... Apple is doi...   NaN\n",
       "1      2  Who added the background music to the video it...   NaN\n",
       "2      3                    16:26  FEMI KUTI !!! RAAHHH !!!   NaN\n",
       "3      4            The greatest AI scam in history, is AI.   NaN\n",
       "4      5  if I only knew Siri is a mess, I would bought ...   NaN"
      ]
     },
     "execution_count": 2,
     "metadata": {},
     "output_type": "execute_result"
    }
   ],
   "source": [
    "import pandas as pd\n",
    "\n",
    "# Step 1: Load the CSV file\n",
    "df = pd.read_csv('data-from-youtube.csv')\n",
    "\n",
    "# Step 2: Create a new column with sequential numbers starting from 1\n",
    "df.insert(0, 'Index', range(1, len(df) + 1))  # Insert at position 0 with column name 'Index'\n",
    "\n",
    "# Step 3: Save the updated DataFrame to a new CSV file\n",
    "df.to_csv('brian-youtube-data-numbered.csv', index=False)\n",
    "\n",
    "# Optional: Preview the result\n",
    "df.head()\n"
   ]
  },
  {
   "cell_type": "code",
   "execution_count": null,
   "id": "b47e67d1",
   "metadata": {},
   "outputs": [],
   "source": []
  }
 ],
 "metadata": {
  "kernelspec": {
   "display_name": "learn-env",
   "language": "python",
   "name": "python3"
  },
  "language_info": {
   "codemirror_mode": {
    "name": "ipython",
    "version": 3
   },
   "file_extension": ".py",
   "mimetype": "text/x-python",
   "name": "python",
   "nbconvert_exporter": "python",
   "pygments_lexer": "ipython3",
   "version": "3.8.5"
  }
 },
 "nbformat": 4,
 "nbformat_minor": 5
}
