{
 "cells": [
  {
   "cell_type": "markdown",
   "id": "72211811",
   "metadata": {},
   "source": [
    "# OS platform module and Other library"
   ]
  },
  {
   "cell_type": "code",
   "execution_count": 3,
   "id": "3e1d5f9a",
   "metadata": {},
   "outputs": [],
   "source": [
    "import os\n",
    "import pandas as pd "
   ]
  },
  {
   "cell_type": "code",
   "execution_count": 4,
   "id": "9346ceb5",
   "metadata": {},
   "outputs": [],
   "source": [
    "# Step 1: Setup — Create Output Folder\n",
    "output_folder = \"brian-output-repositories\"\n",
    "os.makedirs(output_folder, exist_ok=True)\n",
    "\n",
    "# Step 2: Load and Parse the Dataset Files\n",
    "# Parse movie_lines.txt\n",
    "id2line = {}\n",
    "with open(\"movie_lines.txt\", encoding='utf-8', errors='ignore') as f:\n",
    "    for line in f:\n",
    "        parts = line.strip().split(\" +++$+++ \")\n",
    "        if len(parts) == 5:\n",
    "            line_id, _, _, _, text = parts\n",
    "            id2line[line_id] = text\n",
    "\n",
    "# Parse movie_conversations.txt\n",
    "conversations = []\n",
    "with open(\"movie_conversations.txt\", encoding='utf-8', errors='ignore') as f:\n",
    "    for line in f:\n",
    "        parts = line.strip().split(\" +++$+++ \")\n",
    "        if len(parts) == 4:\n",
    "            line_ids = eval(parts[3])\n",
    "            conversations.append(line_ids)\n",
    "\n",
    "# Step 3A: Create df_conversations (One row per conversation)\n",
    "import pandas as pd\n",
    "\n",
    "conversation_texts = [\n",
    "    \"\\n\".join([id2line.get(line_id, \"\") for line_id in conv])\n",
    "    for conv in conversations\n",
    "]\n",
    "\n",
    "df_conversations = pd.DataFrame({\n",
    "    \"conversation_id\": list(range(len(conversation_texts))),\n",
    "    \"conversation_text\": conversation_texts\n",
    "})\n",
    "\n",
    "# Step 3B: Create df_lines (One row per line of dialogue)\n",
    "rows = []\n",
    "\n",
    "for conv_id, conv in enumerate(conversations):\n",
    "    for order, line_id in enumerate(conv):\n",
    "        line_text = id2line.get(line_id, \"\")\n",
    "        rows.append({\n",
    "            \"conversation_id\": conv_id,\n",
    "            \"line_order\": order,\n",
    "            \"line_text\": line_text\n",
    "        })\n",
    "\n",
    "df_lines = pd.DataFrame(rows)\n",
    "\n",
    "# Step 4: Save Both Files into Folder\n",
    "block_csv_path = os.path.join(output_folder, \"conversations_block.csv\")\n",
    "df_conversations.to_csv(block_csv_path, index=False)\n",
    "\n",
    "lines_csv_path = os.path.join(output_folder, \"conversations_lines.csv\")\n",
    "df_lines.to_csv(lines_csv_path, index=False)\n"
   ]
  }
 ],
 "metadata": {
  "kernelspec": {
   "display_name": "learn-env",
   "language": "python",
   "name": "python3"
  },
  "language_info": {
   "codemirror_mode": {
    "name": "ipython",
    "version": 3
   },
   "file_extension": ".py",
   "mimetype": "text/x-python",
   "name": "python",
   "nbconvert_exporter": "python",
   "pygments_lexer": "ipython3",
   "version": "3.8.5"
  }
 },
 "nbformat": 4,
 "nbformat_minor": 5
}
