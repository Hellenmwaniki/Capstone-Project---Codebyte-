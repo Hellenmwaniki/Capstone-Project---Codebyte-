{
 "cells": [
  {
   "cell_type": "markdown",
   "id": "4731d587",
   "metadata": {},
   "source": [
    "# Merging the three sourced data"
   ]
  },
  {
   "cell_type": "code",
   "execution_count": 5,
   "id": "d4f11cef",
   "metadata": {},
   "outputs": [
    {
     "data": {
      "text/html": [
       "<div>\n",
       "<style scoped>\n",
       "    .dataframe tbody tr th:only-of-type {\n",
       "        vertical-align: middle;\n",
       "    }\n",
       "\n",
       "    .dataframe tbody tr th {\n",
       "        vertical-align: top;\n",
       "    }\n",
       "\n",
       "    .dataframe thead th {\n",
       "        text-align: right;\n",
       "    }\n",
       "</style>\n",
       "<table border=\"1\" class=\"dataframe\">\n",
       "  <thead>\n",
       "    <tr style=\"text-align: right;\">\n",
       "      <th></th>\n",
       "      <th>1</th>\n",
       "      <th>Apple missed the boat on AI OR... Apple is doing what it always does, waiting for others to prove a new technology, then ride in on their massive platform and take over. Time will tell which statement is true.</th>\n",
       "      <th>0</th>\n",
       "      <th>Can we make this quick?  Roxanne Korrine and Andrew Barrett are having an incredibly horrendous public break- up on the quad.  Again.\\nWell, I thought we'd start with pronunciation, if that's okay with you.\\nNot the hacking and gagging and spitting part.  Please.\\nOkay... then how 'bout we try out some French cuisine.  Saturday?  Night?</th>\n",
       "      <th>What an incredible victory. I agree the Kenyans should have been celebrated at the end. This was an incredible performance.</th>\n",
       "    </tr>\n",
       "  </thead>\n",
       "  <tbody>\n",
       "    <tr>\n",
       "      <th>0</th>\n",
       "      <td>2.0</td>\n",
       "      <td>Who added the background music to the video it...</td>\n",
       "      <td>NaN</td>\n",
       "      <td>NaN</td>\n",
       "      <td>NaN</td>\n",
       "    </tr>\n",
       "    <tr>\n",
       "      <th>1</th>\n",
       "      <td>3.0</td>\n",
       "      <td>16:26  FEMI KUTI !!! RAAHHH !!!</td>\n",
       "      <td>NaN</td>\n",
       "      <td>NaN</td>\n",
       "      <td>NaN</td>\n",
       "    </tr>\n",
       "    <tr>\n",
       "      <th>2</th>\n",
       "      <td>4.0</td>\n",
       "      <td>The greatest AI scam in history, is AI.</td>\n",
       "      <td>NaN</td>\n",
       "      <td>NaN</td>\n",
       "      <td>NaN</td>\n",
       "    </tr>\n",
       "  </tbody>\n",
       "</table>\n",
       "</div>"
      ],
      "text/plain": [
       "     1  \\\n",
       "0  2.0   \n",
       "1  3.0   \n",
       "2  4.0   \n",
       "\n",
       "  Apple missed the boat on AI OR... Apple is doing what it always does, waiting for others to prove a new technology, then ride in on their massive platform and take over. Time will tell which statement is true.  \\\n",
       "0  Who added the background music to the video it...                                                                                                                                                                  \n",
       "1                    16:26  FEMI KUTI !!! RAAHHH !!!                                                                                                                                                                  \n",
       "2            The greatest AI scam in history, is AI.                                                                                                                                                                  \n",
       "\n",
       "    0  \\\n",
       "0 NaN   \n",
       "1 NaN   \n",
       "2 NaN   \n",
       "\n",
       "  Can we make this quick?  Roxanne Korrine and Andrew Barrett are having an incredibly horrendous public break- up on the quad.  Again.\\nWell, I thought we'd start with pronunciation, if that's okay with you.\\nNot the hacking and gagging and spitting part.  Please.\\nOkay... then how 'bout we try out some French cuisine.  Saturday?  Night?  \\\n",
       "0                                                NaN                                                                                                                                                                                                                                                                                                   \n",
       "1                                                NaN                                                                                                                                                                                                                                                                                                   \n",
       "2                                                NaN                                                                                                                                                                                                                                                                                                   \n",
       "\n",
       "  What an incredible victory. I agree the Kenyans should have been celebrated at the end. This was an incredible performance.  \n",
       "0                                                NaN                                                                           \n",
       "1                                                NaN                                                                           \n",
       "2                                                NaN                                                                           "
      ]
     },
     "execution_count": 5,
     "metadata": {},
     "output_type": "execute_result"
    }
   ],
   "source": [
    "# Import pandas library\n",
    "import pandas as pd\n",
    "\n",
    "# Read each file (assuming they are in the same directory as the notebook)\n",
    "file_1 = pd.read_csv('file_1.csv')\n",
    "file_2 = pd.read_csv('file_2.csv')\n",
    "file_3 = pd.read_csv('file_3.csv')\n",
    "\n",
    "# Concatenate the three DataFrames vertically (stacked row-wise)\n",
    "final_dataset = pd.concat([file_1, file_2, file_3], ignore_index=False)\n",
    "\n",
    "# Save the result to a new CSV file\n",
    "final_dataset.to_csv('final_dataset.csv', index=False)\n",
    "\n",
    "# Optional: Display the first few rows to confirm\n",
    "final_dataset.head(3)"
   ]
  },
  {
   "cell_type": "code",
   "execution_count": 6,
   "id": "dc0eb2bb",
   "metadata": {},
   "outputs": [
    {
     "data": {
      "text/plain": [
       "(2852, 2)"
      ]
     },
     "execution_count": 6,
     "metadata": {},
     "output_type": "execute_result"
    }
   ],
   "source": [
    "file_1.shape"
   ]
  },
  {
   "cell_type": "code",
   "execution_count": 7,
   "id": "46b14985",
   "metadata": {},
   "outputs": [
    {
     "data": {
      "text/plain": [
       "(111576, 5)"
      ]
     },
     "execution_count": 7,
     "metadata": {},
     "output_type": "execute_result"
    }
   ],
   "source": [
    "final_dataset.shape"
   ]
  },
  {
   "cell_type": "code",
   "execution_count": 9,
   "id": "22777dbb",
   "metadata": {},
   "outputs": [
    {
     "name": "stdout",
     "output_type": "stream",
     "text": [
      "file_1.csv\n",
      "file_2.csv\n",
      "file_3.csv\n",
      "final_Dataset.csv\n",
      "merging_file.ipynb\n"
     ]
    }
   ],
   "source": [
    "# final_Dataset.shape\n",
    "!ls"
   ]
  },
  {
   "cell_type": "code",
   "execution_count": null,
   "id": "a9672332",
   "metadata": {},
   "outputs": [
    {
     "name": "stdout",
     "output_type": "stream",
     "text": [
      "Successfully loaded file_1.csv\n",
      "Successfully loaded file_2.csv\n",
      "Successfully loaded file_3.csv\n",
      "\n",
      "Successfully combined data into combined_data.csv\n",
      "Total rows in combined file: 111576\n"
     ]
    }
   ],
   "source": [
    "# import pandas as pd\n",
    "# import os\n",
    "\n",
    "# # Define the paths to your CSV files\n",
    "# file_paths = ['file_1.csv', 'file_2.csv', 'file_3.csv']\n",
    "# output_csv_name = 'combined_data.csv'\n",
    "\n",
    "# # Initialize an empty list to store dataframes\n",
    "# all_dataframes = []\n",
    "\n",
    "# # Loop through each file, read it into a pandas DataFrame, and append to the list\n",
    "# for file_path in file_paths:\n",
    "#     if os.path.exists(file_path):\n",
    "#         try:\n",
    "#             df = pd.read_csv(file_path)\n",
    "#             all_dataframes.append(df)\n",
    "#             print(f\"Successfully loaded {file_path}\")\n",
    "#         except pd.errors.EmptyDataError:\n",
    "#             print(f\"Warning: {file_path} is empty and will be skipped.\")\n",
    "#         except FileNotFoundError:\n",
    "#             print(f\"Error: {file_path} not found. Please check the path.\")\n",
    "#         except Exception as e:\n",
    "#             print(f\"An error occurred while reading {file_path}: {e}\")\n",
    "#     else:\n",
    "#         print(f\"Error: {file_path} does not exist.\")\n",
    "\n",
    "# # Concatenate all dataframes into a single dataframe\n",
    "# if all_dataframes:\n",
    "#     combined_df = pd.concat(all_dataframes, ignore_index=True)\n",
    "\n",
    "#     # Save the combined dataframe to a new CSV file\n",
    "#     combined_df.to_csv(output_csv_name, index=False)\n",
    "#     print(f\"\\nSuccessfully combined data into {output_csv_name}\")\n",
    "#     print(f\"Total rows in combined file: {len(combined_df)}\")\n",
    "# else:\n",
    "#     print(\"No dataframes were loaded. No combined CSV file was created.\")"
   ]
  },
  {
   "cell_type": "code",
   "execution_count": null,
   "id": "d54b11b2",
   "metadata": {},
   "outputs": [
    {
     "data": {
      "text/html": [
       "<div>\n",
       "<style scoped>\n",
       "    .dataframe tbody tr th:only-of-type {\n",
       "        vertical-align: middle;\n",
       "    }\n",
       "\n",
       "    .dataframe tbody tr th {\n",
       "        vertical-align: top;\n",
       "    }\n",
       "\n",
       "    .dataframe thead th {\n",
       "        text-align: right;\n",
       "    }\n",
       "</style>\n",
       "<table border=\"1\" class=\"dataframe\">\n",
       "  <thead>\n",
       "    <tr style=\"text-align: right;\">\n",
       "      <th></th>\n",
       "      <th>1</th>\n",
       "      <th>Apple missed the boat on AI OR... Apple is doing what it always does, waiting for others to prove a new technology, then ride in on their massive platform and take over. Time will tell which statement is true.</th>\n",
       "      <th>0</th>\n",
       "      <th>Can we make this quick?  Roxanne Korrine and Andrew Barrett are having an incredibly horrendous public break- up on the quad.  Again.\\nWell, I thought we'd start with pronunciation, if that's okay with you.\\nNot the hacking and gagging and spitting part.  Please.\\nOkay... then how 'bout we try out some French cuisine.  Saturday?  Night?</th>\n",
       "      <th>What an incredible victory. I agree the Kenyans should have been celebrated at the end. This was an incredible performance.</th>\n",
       "    </tr>\n",
       "  </thead>\n",
       "  <tbody>\n",
       "    <tr>\n",
       "      <th>0</th>\n",
       "      <td>2.0</td>\n",
       "      <td>Who added the background music to the video it...</td>\n",
       "      <td>NaN</td>\n",
       "      <td>NaN</td>\n",
       "      <td>NaN</td>\n",
       "    </tr>\n",
       "    <tr>\n",
       "      <th>1</th>\n",
       "      <td>3.0</td>\n",
       "      <td>16:26  FEMI KUTI !!! RAAHHH !!!</td>\n",
       "      <td>NaN</td>\n",
       "      <td>NaN</td>\n",
       "      <td>NaN</td>\n",
       "    </tr>\n",
       "    <tr>\n",
       "      <th>2</th>\n",
       "      <td>4.0</td>\n",
       "      <td>The greatest AI scam in history, is AI.</td>\n",
       "      <td>NaN</td>\n",
       "      <td>NaN</td>\n",
       "      <td>NaN</td>\n",
       "    </tr>\n",
       "    <tr>\n",
       "      <th>3</th>\n",
       "      <td>5.0</td>\n",
       "      <td>if I only knew Siri is a mess, I would bought ...</td>\n",
       "      <td>NaN</td>\n",
       "      <td>NaN</td>\n",
       "      <td>NaN</td>\n",
       "    </tr>\n",
       "    <tr>\n",
       "      <th>4</th>\n",
       "      <td>6.0</td>\n",
       "      <td>Maybe AI is just a fad like cryptos.</td>\n",
       "      <td>NaN</td>\n",
       "      <td>NaN</td>\n",
       "      <td>NaN</td>\n",
       "    </tr>\n",
       "  </tbody>\n",
       "</table>\n",
       "</div>"
      ],
      "text/plain": [
       "     1  \\\n",
       "0  2.0   \n",
       "1  3.0   \n",
       "2  4.0   \n",
       "3  5.0   \n",
       "4  6.0   \n",
       "\n",
       "  Apple missed the boat on AI OR... Apple is doing what it always does, waiting for others to prove a new technology, then ride in on their massive platform and take over. Time will tell which statement is true.  \\\n",
       "0  Who added the background music to the video it...                                                                                                                                                                  \n",
       "1                    16:26  FEMI KUTI !!! RAAHHH !!!                                                                                                                                                                  \n",
       "2            The greatest AI scam in history, is AI.                                                                                                                                                                  \n",
       "3  if I only knew Siri is a mess, I would bought ...                                                                                                                                                                  \n",
       "4               Maybe AI is just a fad like cryptos.                                                                                                                                                                  \n",
       "\n",
       "    0  \\\n",
       "0 NaN   \n",
       "1 NaN   \n",
       "2 NaN   \n",
       "3 NaN   \n",
       "4 NaN   \n",
       "\n",
       "  Can we make this quick?  Roxanne Korrine and Andrew Barrett are having an incredibly horrendous public break- up on the quad.  Again.\\nWell, I thought we'd start with pronunciation, if that's okay with you.\\nNot the hacking and gagging and spitting part.  Please.\\nOkay... then how 'bout we try out some French cuisine.  Saturday?  Night?  \\\n",
       "0                                                NaN                                                                                                                                                                                                                                                                                                   \n",
       "1                                                NaN                                                                                                                                                                                                                                                                                                   \n",
       "2                                                NaN                                                                                                                                                                                                                                                                                                   \n",
       "3                                                NaN                                                                                                                                                                                                                                                                                                   \n",
       "4                                                NaN                                                                                                                                                                                                                                                                                                   \n",
       "\n",
       "  What an incredible victory. I agree the Kenyans should have been celebrated at the end. This was an incredible performance.  \n",
       "0                                                NaN                                                                           \n",
       "1                                                NaN                                                                           \n",
       "2                                                NaN                                                                           \n",
       "3                                                NaN                                                                           \n",
       "4                                                NaN                                                                           "
      ]
     },
     "execution_count": 16,
     "metadata": {},
     "output_type": "execute_result"
    }
   ],
   "source": [
    "# # Step 1: Import necessary library\n",
    "# import pandas as pd\n",
    "\n",
    "# # Step 2: Read each CSV file\n",
    "# file_1 = pd.read_csv('file_1.csv')\n",
    "# file_2 = pd.read_csv('file_2.csv')\n",
    "# file_3 = pd.read_csv('file_3.csv')\n",
    "\n",
    "# # Step 3: Concatenate the files vertically\n",
    "# merged_df = pd.concat([file_1, file_2, file_3], ignore_index=True)\n",
    "\n",
    "# # Step 4: Save the result to a new CSV file\n",
    "# merged_df.to_csv('final_dataset.csv', index=False)\n",
    "\n",
    "# # Optional: Display the merged DataFrame\n",
    "# merged_df.head()\n"
   ]
  },
  {
   "cell_type": "code",
   "execution_count": null,
   "id": "09593a34",
   "metadata": {},
   "outputs": [
    {
     "name": "stdout",
     "output_type": "stream",
     "text": [
      "Merged shape: (111576, 5)\n"
     ]
    }
   ],
   "source": [
    "# import pandas as pd\n",
    "\n",
    "# # Load each CSV file\n",
    "# df1 = pd.read_csv('file_1.csv')\n",
    "# df2 = pd.read_csv('file_2.csv')\n",
    "# df3 = pd.read_csv('file_3.csv')\n",
    "\n",
    "# # Concatenate the dataframes one below the other\n",
    "# merged_df = pd.concat([df1, df2, df3], ignore_index=True)\n",
    "\n",
    "# # Print the shape to confirm (should be like (100, 2))\n",
    "# print(\"Merged shape:\", merged_df.shape)\n",
    "\n",
    "# # Save the final dataset to a new CSV file\n",
    "# merged_df.to_csv('final_dataset.csv', index=False)\n"
   ]
  },
  {
   "cell_type": "code",
   "execution_count": 23,
   "id": "25725ead",
   "metadata": {},
   "outputs": [],
   "source": [
    "# import pandas as pd\n",
    "# import os\n",
    "\n",
    "# # Define the input file names in the desired order\n",
    "# input_files = ['file_1.csv', 'file_2.csv', 'file_3.csv']\n",
    "\n",
    "# # Define the name for the output combined CSV file\n",
    "# output_csv_name = 'combined_output_with_columns.csv'\n",
    "\n",
    "# # List to hold individual DataFrames\n",
    "# list_of_dfs = []\n",
    "\n",
    "# # Define the expected columns (for confirmation, not strictly necessary for concat)\n",
    "# expected_columns = ['column_ID', 'column_text']\n",
    "\n",
    "# # Loop through each specified file path\n",
    "# for file_name in input_files:\n",
    "#     if os.path.exists(file_name):\n",
    "#         try:\n",
    "#             # Read each CSV file into a pandas DataFrame\n",
    "#             df = pd.read_csv(file_name)\n",
    "\n",
    "#             # Optional: Check if columns match the expected columns (good practice for validation)\n",
    "#             if not all(col in df.columns for col in expected_columns):\n",
    "#                 print(f\"Warning: {file_name} does not contain all expected columns ({expected_columns}). Found: {df.columns.tolist()}\")\n",
    "#                 # You might choose to skip this file or handle column discrepancies here\n",
    "#                 # For this example, we'll proceed, assuming concat will handle missing columns with NaN\n",
    "\n",
    "#             list_of_dfs.append(df)\n",
    "#             print(f\"Successfully loaded {file_name}\")\n",
    "\n",
    "#         except pd.errors.EmptyDataError:\n",
    "#             print(f\"Warning: {file_name} is empty and will be skipped.\")\n",
    "#         except FileNotFoundError:\n",
    "#             print(f\"Error: {file_name} not found. Please ensure it's in the same directory or provide the full path.\")\n",
    "#         except Exception as e:\n",
    "#             print(f\"An error occurred while reading {file_name}: {e}\")\n",
    "#     else:\n",
    "#         print(f\"Error: {file_name} does not exist. Please check the file name and path.\")\n",
    "\n",
    "# # Check if any dataframes were successfully loaded\n",
    "# if list_of_dfs:\n",
    "#     # Concatenate all dataframes in the order they were added to the list\n",
    "#     # Since the columns are identical, pandas will simply stack them.\n",
    "#     # If a file had an extra column, it would appear in the combined_df with NaN for other files.\n",
    "#     combined_df = pd.concat(list_of_dfs, ignore_index=True)\n",
    "\n",
    "#     # Reorder columns explicitly if you want to ensure column_ID comes before column_text\n",
    "#     # (This is only necessary if the input files had different column orders,\n",
    "#     # but pandas concat tries to preserve the order of the first DataFrame encountered for common columns)\n",
    "#     if all(col in combined_df.columns for col in expected_columns):\n",
    "#         combined_df = combined_df[expected_columns]\n",
    "#     else:\n",
    "#         print(\"Note: Not all expected columns were found in the combined data, skipping explicit column reordering.\")\n",
    "\n",
    "\n",
    "#     # Save the combined DataFrame to a new CSV file\n",
    "#     combined_df.to_csv(output_csv_name, index=False)\n",
    "\n",
    "#     print(f\"\\nSuccessfully combined data into '{output_csv_name}' in the specified order.\")\n",
    "#     print(f\"Total rows in combined file: {len(combined_df)}\")\n",
    "#     print(f\"Columns in combined file: {combined_df.columns.tolist()}\")\n",
    "# else:\n",
    "#     print(\"No CSV files were successfully loaded. No combined file was created.\")"
   ]
  },
  {
   "cell_type": "code",
   "execution_count": 30,
   "id": "acd5d644",
   "metadata": {},
   "outputs": [
    {
     "data": {
      "text/plain": [
       "(111578, 1)"
      ]
     },
     "execution_count": 30,
     "metadata": {},
     "output_type": "execute_result"
    }
   ],
   "source": [
    "DF = pd.read_csv(\"DATA.csv\", index_col = 0)\n",
    "DF.shape"
   ]
  },
  {
   "cell_type": "code",
   "execution_count": 31,
   "id": "8a6d1fbe",
   "metadata": {},
   "outputs": [
    {
     "data": {
      "text/html": [
       "<div>\n",
       "<style scoped>\n",
       "    .dataframe tbody tr th:only-of-type {\n",
       "        vertical-align: middle;\n",
       "    }\n",
       "\n",
       "    .dataframe tbody tr th {\n",
       "        vertical-align: top;\n",
       "    }\n",
       "\n",
       "    .dataframe thead th {\n",
       "        text-align: right;\n",
       "    }\n",
       "</style>\n",
       "<table border=\"1\" class=\"dataframe\">\n",
       "  <thead>\n",
       "    <tr style=\"text-align: right;\">\n",
       "      <th></th>\n",
       "      <th>Apple missed the boat on AI OR... Apple is doing what it always does, waiting for others to prove a new technology, then ride in on their massive platform and take over. Time will tell which statement is true.</th>\n",
       "    </tr>\n",
       "    <tr>\n",
       "      <th>1</th>\n",
       "      <th></th>\n",
       "    </tr>\n",
       "  </thead>\n",
       "  <tbody>\n",
       "    <tr>\n",
       "      <th>2</th>\n",
       "      <td>Who added the background music to the video it...</td>\n",
       "    </tr>\n",
       "    <tr>\n",
       "      <th>3</th>\n",
       "      <td>16:26  FEMI KUTI !!! RAAHHH !!!</td>\n",
       "    </tr>\n",
       "    <tr>\n",
       "      <th>4</th>\n",
       "      <td>The greatest AI scam in history, is AI.</td>\n",
       "    </tr>\n",
       "    <tr>\n",
       "      <th>5</th>\n",
       "      <td>if I only knew Siri is a mess, I would bought ...</td>\n",
       "    </tr>\n",
       "    <tr>\n",
       "      <th>6</th>\n",
       "      <td>Maybe AI is just a fad like cryptos.</td>\n",
       "    </tr>\n",
       "  </tbody>\n",
       "</table>\n",
       "</div>"
      ],
      "text/plain": [
       "  Apple missed the boat on AI OR... Apple is doing what it always does, waiting for others to prove a new technology, then ride in on their massive platform and take over. Time will tell which statement is true.\n",
       "1                                                                                                                                                                                                                  \n",
       "2  Who added the background music to the video it...                                                                                                                                                               \n",
       "3                    16:26  FEMI KUTI !!! RAAHHH !!!                                                                                                                                                               \n",
       "4            The greatest AI scam in history, is AI.                                                                                                                                                               \n",
       "5  if I only knew Siri is a mess, I would bought ...                                                                                                                                                               \n",
       "6               Maybe AI is just a fad like cryptos.                                                                                                                                                               "
      ]
     },
     "execution_count": 31,
     "metadata": {},
     "output_type": "execute_result"
    }
   ],
   "source": [
    "DF.head()"
   ]
  },
  {
   "cell_type": "code",
   "execution_count": null,
   "id": "4e5c9ff4",
   "metadata": {},
   "outputs": [],
   "source": []
  }
 ],
 "metadata": {
  "kernelspec": {
   "display_name": "learn-env",
   "language": "python",
   "name": "python3"
  },
  "language_info": {
   "codemirror_mode": {
    "name": "ipython",
    "version": 3
   },
   "file_extension": ".py",
   "mimetype": "text/x-python",
   "name": "python",
   "nbconvert_exporter": "python",
   "pygments_lexer": "ipython3",
   "version": "3.8.5"
  }
 },
 "nbformat": 4,
 "nbformat_minor": 5
}
